{
 "cells": [
  {
   "cell_type": "markdown",
   "id": "265f6a0f",
   "metadata": {},
   "source": [
    "# Lütkepohl 2.3\n",
    "\n",
    "In the United States of Wonderland the growth rates of income (GNP) and the money stock (M2) as well as interest rates (IR) are related as in the following VAR(2) model:\n",
    "\n",
    "$$\n",
    "\\begin{bmatrix}\n",
    "    \\mathrm{GNP}_t \\\\\n",
    "    \\mathrm{M2}_t \\\\\n",
    "    \\mathrm{IR}_t\n",
    "\\end{bmatrix} = \n",
    "\\begin{bmatrix}\n",
    "    2 \\\\\n",
    "    1 \\\\\n",
    "    0\n",
    "\\end{bmatrix} +\n",
    "\\begin{bmatrix}\n",
    "    .7 & .1 & 0 \\\\\n",
    "     0 & .4 &.1 \\\\\n",
    "    .9 &  0 &.8\n",
    "\\end{bmatrix}\n",
    "\\begin{bmatrix}\n",
    "    \\mathrm{GNP}_{t-1} \\\\\n",
    "    \\mathrm{M2}_{t-1} \\\\\n",
    "    \\mathrm{IR}_{t-1}\n",
    "\\end{bmatrix} + \n",
    "\\begin{bmatrix}\n",
    "    -.2 & 0 & 0 \\\\\n",
    "      0 & .1&.1 \\\\\n",
    "      0 & 0 & 0\n",
    "\\end{bmatrix}\n",
    "\\begin{bmatrix}\n",
    "    \\mathrm{GNP}_{t-2} \\\\\n",
    "    \\mathrm{M2}_{t-2} \\\\\n",
    "    \\mathrm{IR}_{t-2}\n",
    "\\end{bmatrix} + \n",
    "\\begin{bmatrix}\n",
    "    u_{1t} \\\\\n",
    "    u_{2t} \\\\\n",
    "    u_{3t}\n",
    "\\end{bmatrix}\n",
    "$$"
   ]
  },
  {
   "cell_type": "markdown",
   "id": "078169b0",
   "metadata": {},
   "source": [
    "a) Show that the process $Y_t = (\\mathrm{GDP}_t,\\mathrm{M2}_t,\\mathrm{IR}_t)$ is stable"
   ]
  },
  {
   "cell_type": "markdown",
   "id": "896918a6",
   "metadata": {},
   "source": [
    "**Solution**\n",
    "\n",
    "It's necessary to show that the matrix below is invertible:\n",
    "\n",
    "$$\n",
    "\\mathbf{I} - \\begin{bmatrix}\n",
    "    .7 & .1 & 0 \\\\\n",
    "     0 & .4 &.1 \\\\\n",
    "    .9 &  0 &.8\n",
    "\\end{bmatrix}L\n",
    "\\begin{bmatrix}\n",
    "    \\mathrm{GNP}_{t-1} \\\\\n",
    "    \\mathrm{M2}_{t-1} \\\\\n",
    "    \\mathrm{IR}_{t-1}\n",
    "\\end{bmatrix} - \n",
    "\\begin{bmatrix}\n",
    "    -.2 & 0 & 0 \\\\\n",
    "      0 & .1&.1 \\\\\n",
    "      0 & 0 & 0\n",
    "\\end{bmatrix}L^2\n",
    "$$\n",
    "\n",
    "And we can do this by verifying that the roots of the following polynomial ar *all* (in absolute values) greater than 1\n",
    "\n",
    "$$\\det\\left(\\mathbf{I} - \\begin{bmatrix}\n",
    "    .7 & .1 & 0 \\\\\n",
    "     0 & .4 &.1 \\\\\n",
    "    .9 &  0 &.8\n",
    "\\end{bmatrix}z\n",
    "\\begin{bmatrix}\n",
    "    \\mathrm{GNP}_{t-1} \\\\\n",
    "    \\mathrm{M2}_{t-1} \\\\\n",
    "    \\mathrm{IR}_{t-1}\n",
    "\\end{bmatrix} - \n",
    "\\begin{bmatrix}\n",
    "    -.2 & 0 & 0 \\\\\n",
    "      0 & .1&.1 \\\\\n",
    "      0 & 0 & 0\n",
    "\\end{bmatrix}z^2\n",
    "\\right)$$\n",
    "\n",
    "Such polynomial is written as \n",
    "\n",
    "$$( 1 -.7z + .2z^2)(1-.4z-.1z^2)(1-.8z) + (-.1z)(-.1z-.1z^2)(-.9z)$$\n",
    "\n",
    "Lets solve it `using Polynomials`!"
   ]
  },
  {
   "cell_type": "code",
   "execution_count": 1,
   "id": "3643337a",
   "metadata": {},
   "outputs": [],
   "source": [
    "using Polynomials"
   ]
  },
  {
   "cell_type": "code",
   "execution_count": 3,
   "id": "6099630e",
   "metadata": {},
   "outputs": [
    {
     "name": "stdout",
     "output_type": "stream",
     "text": [
      "1.0 - 1.9*x + 1.26*x^2 - 0.323*x^3 - 0.021*x^4 + 0.016*x^5"
     ]
    }
   ],
   "source": [
    "# Define the polynomial object\n",
    "p = Polynomial([1, -.7, .2]) * Polynomial([1,-.4,-.1]) * Polynomial([1,-.8]) +\n",
    "Polynomial([0, -.1]) * Polynomial([0, -.1, -.1]) * Polynomial([0, -.9])\n",
    "\n",
    "print(p)"
   ]
  },
  {
   "cell_type": "code",
   "execution_count": 5,
   "id": "65a125e5",
   "metadata": {},
   "outputs": [
    {
     "name": "stdout",
     "output_type": "stream",
     "text": [
      "ComplexF64[-5.580836123519409 + 0.0im, 1.0990151547049047 + 0.0im, 1.4503267202784422 - 1.1908225839834359im, 1.4503267202784422 + 1.1908225839834359im, 2.893667528257615 + 0.0im]"
     ]
    }
   ],
   "source": [
    "# Now, we compute the roots\n",
    "\n",
    "z = roots(p)\n",
    "\n",
    "print(z)"
   ]
  },
  {
   "cell_type": "code",
   "execution_count": 8,
   "id": "11566e42",
   "metadata": {},
   "outputs": [
    {
     "data": {
      "text/plain": [
       "5-element BitVector:\n",
       " 1\n",
       " 1\n",
       " 1\n",
       " 1\n",
       " 1"
      ]
     },
     "execution_count": 8,
     "metadata": {},
     "output_type": "execute_result"
    }
   ],
   "source": [
    "# Let's verify whether these roots are outside the unit circle\n",
    "\n",
    "abs.(z) .> 1"
   ]
  },
  {
   "cell_type": "markdown",
   "id": "f652765e",
   "metadata": {},
   "source": [
    "Therefore, the process is stable (stationary)"
   ]
  },
  {
   "cell_type": "markdown",
   "id": "1f884200",
   "metadata": {},
   "source": [
    "b) Determine the mean vector of $Y_t$\n",
    "\n",
    "**Solution**\n",
    "\n",
    "$$Y_t = \n",
    "\\begin{bmatrix}\n",
    "    2 \\\\\n",
    "    1 \\\\\n",
    "    0\n",
    "\\end{bmatrix} +\n",
    "\\begin{bmatrix}\n",
    "    .7 & .1 & 0 \\\\\n",
    "     0 & .4 &.1 \\\\\n",
    "    .9 &  0 &.8\n",
    "\\end{bmatrix}\n",
    "Y_{t-1} + \n",
    "\\begin{bmatrix}\n",
    "    -.2 & 0 & 0 \\\\\n",
    "      0 & .1&.1 \\\\\n",
    "      0 & 0 & 0\n",
    "\\end{bmatrix}\n",
    "Y_{t-2} + u_t\n",
    "$$\n",
    "\n",
    "We can take expectations on both sides. We found in a) that this process is stationary, so $\\mathbb{E}[Y_t] = \\mu$ for all $t$. Also, we use the fact that $\\mathbb{E}[u] = 0$:\n",
    "\n",
    "$$\\mu = \n",
    "\\begin{bmatrix}\n",
    "    2 \\\\\n",
    "    1 \\\\\n",
    "    0\n",
    "\\end{bmatrix} +\n",
    "\\begin{bmatrix}\n",
    "    .7 & .1 & 0 \\\\\n",
    "     0 & .4 &.1 \\\\\n",
    "    .9 &  0 &.8\n",
    "\\end{bmatrix}\n",
    "\\mu + \n",
    "\\begin{bmatrix}\n",
    "    -.2 & 0 & 0 \\\\\n",
    "      0 & .1&.1 \\\\\n",
    "      0 & 0 & 0\n",
    "\\end{bmatrix}\n",
    "\\mu\n",
    "$$\n",
    "\n",
    "$$\n",
    "\\left(\n",
    "\\mathbf{I} -\n",
    "\\begin{bmatrix}\n",
    "    .7 & .1 & 0 \\\\\n",
    "     0 & .4 &.1 \\\\\n",
    "    .9 &  0 &.8\n",
    "\\end{bmatrix}-\n",
    "\\begin{bmatrix}\n",
    "    -.2 & 0 & 0 \\\\\n",
    "      0 & .1&.1 \\\\\n",
    "      0 & 0 & 0\n",
    "\\end{bmatrix}\n",
    "\\right)\\mu =\n",
    "\\begin{bmatrix}\n",
    "    2 \\\\\n",
    "    1 \\\\\n",
    "    0\n",
    "\\end{bmatrix}\n",
    "$$\n",
    "\n",
    "$$\n",
    "\\begin{bmatrix}\n",
    "    .5 & -.1 &   0 \\\\\n",
    "     0 &  .5 & -.2 \\\\\n",
    "   -.9 &   0 &  .2\n",
    "\\end{bmatrix}\n",
    "\\mu =\n",
    "\\begin{bmatrix}\n",
    "    2 \\\\\n",
    "    1 \\\\\n",
    "    0\n",
    "\\end{bmatrix}\n",
    "$$\n",
    "\n",
    "$$A\\mu =\n",
    "\\begin{bmatrix}\n",
    "    2 \\\\\n",
    "    1 \\\\\n",
    "    0\n",
    "\\end{bmatrix}\n",
    "$$\n",
    "\n",
    "$$\\Longrightarrow \\mu = A^{-1}\\begin{bmatrix}\n",
    "    2 \\\\\n",
    "    1 \\\\\n",
    "    0\n",
    "\\end{bmatrix}$$\n",
    "\n",
    "Let's calculate $A^{-1}$ and compute $\\mu$ `using LinearAlgebra`"
   ]
  },
  {
   "cell_type": "code",
   "execution_count": 10,
   "id": "fbfc6d4d",
   "metadata": {},
   "outputs": [],
   "source": [
    "using LinearAlgebra"
   ]
  },
  {
   "cell_type": "code",
   "execution_count": 12,
   "id": "0f7496ed",
   "metadata": {},
   "outputs": [
    {
     "data": {
      "text/plain": [
       "3×3 Matrix{Float64}:\n",
       "  0.5  -0.1   0.0\n",
       "  0.0   0.5  -0.2\n",
       " -0.9   0.0   0.2"
      ]
     },
     "execution_count": 12,
     "metadata": {},
     "output_type": "execute_result"
    }
   ],
   "source": [
    "A = [.5 -.1 0; 0 .5 -.2; -.9 0 .2]"
   ]
  },
  {
   "cell_type": "code",
   "execution_count": 14,
   "id": "22579024",
   "metadata": {},
   "outputs": [
    {
     "data": {
      "text/plain": [
       "3×3 Matrix{Float64}:\n",
       "  3.125   0.625   0.625\n",
       "  5.625   3.125   3.125\n",
       " 14.0625  2.8125  7.8125"
      ]
     },
     "execution_count": 14,
     "metadata": {},
     "output_type": "execute_result"
    }
   ],
   "source": [
    "inv(A)"
   ]
  },
  {
   "cell_type": "code",
   "execution_count": 17,
   "id": "e1c01150",
   "metadata": {},
   "outputs": [
    {
     "data": {
      "text/plain": [
       "3-element Vector{Float64}:\n",
       "  6.875\n",
       " 14.375\n",
       " 30.9375"
      ]
     },
     "execution_count": 17,
     "metadata": {},
     "output_type": "execute_result"
    }
   ],
   "source": [
    "μ = inv(A) * [2; 1; 0]"
   ]
  },
  {
   "cell_type": "markdown",
   "id": "42f6a207",
   "metadata": {},
   "source": [
    "c) Write the process $Y_t$ in VAR(1) form.\n",
    "\n",
    "**Solution**\n",
    "\n",
    "Define $y_t = \\begin{bmatrix}\n",
    "Y_t \\\\\n",
    "Y_{t-1}\n",
    "\\end{bmatrix}$. The VAR(1) representation of $Y_t$ is\n",
    "\n",
    "$$\n",
    "y_t =\n",
    "\\begin{bmatrix}\n",
    "    \\mathbf{I}_3 \\\\\n",
    "    \\mathbf{0}_3\n",
    "\\end{bmatrix}\n",
    "\\begin{bmatrix}\n",
    "    2 \\\\\n",
    "    1 \\\\\n",
    "    0\n",
    "\\end{bmatrix}+\n",
    "\\begin{bmatrix}\n",
    "    B_1 & B_2 \\\\\n",
    "    \\mathbf{0}_3 & \\mathbf{0}_3\n",
    "\\end{bmatrix} +\n",
    "\\begin{bmatrix}\n",
    "    \\mathbf{I}_3 \\\\\n",
    "    \\mathbf{0}_3\n",
    "\\end{bmatrix}u_t\n",
    "$$"
   ]
  },
  {
   "cell_type": "markdown",
   "id": "a0c8a0a7",
   "metadata": {},
   "source": [
    "d) Compute the coefficient matrices $\\mathbf{\\phi}_1, ..., \\mathbf{\\phi}_5$ of the MA representation of $Y_t$. That is\n",
    "\n",
    "$$Y_t = \\mu + u_t + \\sum^\\infty_{k=1}\\mathbf{\\phi}_k u_{t-k}$$\n",
    "\n",
    "**Solution**\n",
    "\n",
    "We can recover $Y_t$ from $y_t$ by defining $J = \\begin{bmatrix}\n",
    "\\mathbf{I}_3 & \\mathbf{0}_3\n",
    "\\end{bmatrix}$ and noting that $Y_t = J y_t$. Note also that\n",
    "\n",
    "$$\n",
    "J^{'}J =\n",
    "\\begin{bmatrix}\n",
    "    \\mathbf{I}_3 \\\\\n",
    "    \\mathbf{0}_3\n",
    "\\end{bmatrix}\n",
    "\\begin{bmatrix}\n",
    "    \\mathbf{I}_3 & \\mathbf{0}_3\n",
    "\\end{bmatrix} = \n",
    "\\begin{bmatrix}\n",
    "    \\mathbf{I}_3 & \\mathbf{0}_3 \\\\\n",
    "    \\mathbf{0}_3 & \\mathbf{0}_3\n",
    "\\end{bmatrix}\n",
    "$$\n",
    "\n",
    "$$\n",
    "J^{'}J\\epsilon_t =\n",
    "\\begin{bmatrix}\n",
    "    \\mathbf{I}_3 & \\mathbf{0}_3 \\\\\n",
    "    \\mathbf{0}_3 & \\mathbf{0}_3\n",
    "\\end{bmatrix}\n",
    "\\begin{bmatrix}\n",
    "    \\mathbf{I}_3 \\\\\n",
    "    \\mathbf{0}_3\n",
    "\\end{bmatrix}u_t =\n",
    "\\begin{bmatrix}\n",
    "    \\mathbf{I}_3\\mathbf{I}_3 + \\mathbf{0}_3\\mathbf{0}_3\\\\\n",
    "    \\mathbf{0}_3\\mathbf{I}_3 + \\mathbf{0}_3\\mathbf{0}_3\n",
    "\\end{bmatrix}u_t =\n",
    "\\begin{bmatrix}\n",
    "    \\mathbf{I}_3 \\\\\n",
    "    \\mathbf{0}_3\n",
    "\\end{bmatrix}u_t = \\epsilon_t\n",
    "$$\n",
    "\n",
    "Hence, using MA form of $y_t$\n",
    "\n",
    "$$Y_t = Jy_t = J\\left(\\mathbf{I}_3 + \\sum^\\infty_{k=1}B^k \\mathbf{b}\\right) + J\\epsilon_t + \\sum^\\infty_{k=1}JA^k\\epsilon_{t-k} \\\\\n",
    "= \\mu + u_t + \\sum^\\infty_{k=1}JB^kJ^{'}J\\epsilon_{t-k} \\\\\n",
    "= \\mu + u_t + \\sum^\\infty_{k=1}JB^kJ^{'}u_{t-k} \\\\\n",
    "= \\mu + u_t + \\sum^\\infty_{k=1}\\mathbf{\\phi}_ku_{t-k},\n",
    "$$\n",
    "\n",
    "with $\\mathbf{\\phi}_k = JB^kJ^{'}$.\n",
    "\n",
    "Lets compute $\\mathbf{\\phi}_1, ..., \\mathbf{\\phi}_5$"
   ]
  },
  {
   "cell_type": "code",
   "execution_count": 31,
   "id": "8989393d",
   "metadata": {},
   "outputs": [
    {
     "data": {
      "text/plain": [
       "phi (generic function with 1 method)"
      ]
     },
     "execution_count": 31,
     "metadata": {},
     "output_type": "execute_result"
    }
   ],
   "source": [
    "function phi(k)\n",
    "    J = [Matrix(1I, 3, 3) zeros(3,3)]\n",
    "    B = [[.7 .1 0; 0 .4 .1; .9 0 .8] [-.2 0 0; 0 .1 .1; 0 0 0]; zeros(3,3) zeros(3,3)]\n",
    "    return J*B^k*transpose(J)\n",
    "end"
   ]
  },
  {
   "cell_type": "code",
   "execution_count": 34,
   "id": "b190801e",
   "metadata": {},
   "outputs": [
    {
     "name": "stdout",
     "output_type": "stream",
     "text": [
      "[0.7 0.1 0.0; 0.0 0.4 0.1; 0.9 0.0 0.8][0.48999999999999994 0.11 0.010000000000000002; 0.09000000000000001 0.16000000000000003 0.12000000000000002; 1.35 0.09000000000000001 0.6400000000000001][0.3519999999999999 0.093 0.019000000000000003; 0.171 0.07300000000000002 0.11200000000000003; 1.5210000000000001 0.171 0.5210000000000001][0.2634999999999999 0.07239999999999999 0.024500000000000008; 0.22050000000000006 0.046300000000000015 0.09690000000000004; 1.5336000000000003 0.22050000000000003 0.4339000000000002][0.20649999999999993 0.05530999999999999 0.02684000000000001; 0.24156000000000008 0.04057000000000001 0.08215000000000004; 1.4640300000000002 0.24156000000000002 0.36917000000000016]"
     ]
    }
   ],
   "source": [
    "for k = 1:5\n",
    "    print(phi(k))\n",
    "end"
   ]
  }
 ],
 "metadata": {
  "kernelspec": {
   "display_name": "Julia 1.8.1",
   "language": "julia",
   "name": "julia-1.8"
  },
  "language_info": {
   "file_extension": ".jl",
   "mimetype": "application/julia",
   "name": "julia",
   "version": "1.8.1"
  }
 },
 "nbformat": 4,
 "nbformat_minor": 5
}
